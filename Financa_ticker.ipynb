{
  "cells": [
    {
      "cell_type": "markdown",
      "metadata": {
        "id": "view-in-github",
        "colab_type": "text"
      },
      "source": [
        "<a href=\"https://colab.research.google.com/github/josehenriqueprogramador/Jupyter_Analise_de_Dados/blob/master/Financa_ticker.ipynb\" target=\"_parent\"><img src=\"https://colab.research.google.com/assets/colab-badge.svg\" alt=\"Open In Colab\"/></a>"
      ]
    },
    {
      "cell_type": "markdown",
      "id": "f235b2d7-9f16-4924-b160-347600a45559",
      "metadata": {
        "tags": [],
        "id": "f235b2d7-9f16-4924-b160-347600a45559"
      },
      "source": [
        "# yFinance"
      ]
    },
    {
      "cell_type": "markdown",
      "id": "d094b586-2bfa-45b6-b7bc-4d9d92fbdf8d",
      "metadata": {
        "id": "d094b586-2bfa-45b6-b7bc-4d9d92fbdf8d"
      },
      "source": [
        "Obtenha dados históricos de mercado de forma confiável com Python utilizando a biblioteca yFinance."
      ]
    },
    {
      "cell_type": "markdown",
      "id": "9ce97c50-db65-4456-99af-ec9acf16caab",
      "metadata": {
        "id": "9ce97c50-db65-4456-99af-ec9acf16caab"
      },
      "source": [
        "Site da biblioteca: https://pypi.org/project/yfinance/"
      ]
    },
    {
      "cell_type": "markdown",
      "id": "fe2d14e2-fa28-42e9-be70-e2a36dda65a2",
      "metadata": {
        "id": "fe2d14e2-fa28-42e9-be70-e2a36dda65a2"
      },
      "source": [
        "## Instalação da biblioteca"
      ]
    },
    {
      "cell_type": "code",
      "execution_count": 1,
      "id": "9d725f2f-5226-4907-bef9-cd734df91ff7",
      "metadata": {
        "colab": {
          "base_uri": "https://localhost:8080/"
        },
        "id": "9d725f2f-5226-4907-bef9-cd734df91ff7",
        "outputId": "c951efb9-77c0-420c-bc47-6f5b9ed75363"
      },
      "outputs": [
        {
          "output_type": "stream",
          "name": "stdout",
          "text": [
            "Looking in indexes: https://pypi.org/simple, https://us-python.pkg.dev/colab-wheels/public/simple/\n",
            "Collecting yfinance\n",
            "  Downloading yfinance-0.1.77-py2.py3-none-any.whl (28 kB)\n",
            "Requirement already satisfied: appdirs>=1.4.4 in /usr/local/lib/python3.7/dist-packages (from yfinance) (1.4.4)\n",
            "Collecting requests>=2.26\n",
            "  Downloading requests-2.28.1-py3-none-any.whl (62 kB)\n",
            "\u001b[K     |████████████████████████████████| 62 kB 6.3 MB/s \n",
            "\u001b[?25hRequirement already satisfied: numpy>=1.15 in /usr/local/lib/python3.7/dist-packages (from yfinance) (1.21.6)\n",
            "Requirement already satisfied: lxml>=4.5.1 in /usr/local/lib/python3.7/dist-packages (from yfinance) (4.9.1)\n",
            "Requirement already satisfied: multitasking>=0.0.7 in /usr/local/lib/python3.7/dist-packages (from yfinance) (0.0.11)\n",
            "Requirement already satisfied: pandas>=0.24.0 in /usr/local/lib/python3.7/dist-packages (from yfinance) (1.3.5)\n",
            "Requirement already satisfied: python-dateutil>=2.7.3 in /usr/local/lib/python3.7/dist-packages (from pandas>=0.24.0->yfinance) (2.8.2)\n",
            "Requirement already satisfied: pytz>=2017.3 in /usr/local/lib/python3.7/dist-packages (from pandas>=0.24.0->yfinance) (2022.4)\n",
            "Requirement already satisfied: six>=1.5 in /usr/local/lib/python3.7/dist-packages (from python-dateutil>=2.7.3->pandas>=0.24.0->yfinance) (1.15.0)\n",
            "Requirement already satisfied: certifi>=2017.4.17 in /usr/local/lib/python3.7/dist-packages (from requests>=2.26->yfinance) (2022.9.24)\n",
            "Requirement already satisfied: idna<4,>=2.5 in /usr/local/lib/python3.7/dist-packages (from requests>=2.26->yfinance) (2.10)\n",
            "Requirement already satisfied: charset-normalizer<3,>=2 in /usr/local/lib/python3.7/dist-packages (from requests>=2.26->yfinance) (2.1.1)\n",
            "Requirement already satisfied: urllib3<1.27,>=1.21.1 in /usr/local/lib/python3.7/dist-packages (from requests>=2.26->yfinance) (1.24.3)\n",
            "Installing collected packages: requests, yfinance\n",
            "  Attempting uninstall: requests\n",
            "    Found existing installation: requests 2.23.0\n",
            "    Uninstalling requests-2.23.0:\n",
            "      Successfully uninstalled requests-2.23.0\n",
            "Successfully installed requests-2.28.1 yfinance-0.1.77\n"
          ]
        }
      ],
      "source": [
        "!pip install yfinance --upgrade --no-cache-dir"
      ]
    },
    {
      "cell_type": "markdown",
      "id": "0ca76bf5-c658-4ae3-9db5-c6eb3028f8f8",
      "metadata": {
        "id": "0ca76bf5-c658-4ae3-9db5-c6eb3028f8f8"
      },
      "source": [
        "## Módulo Ticker"
      ]
    },
    {
      "cell_type": "code",
      "execution_count": 3,
      "id": "f4e0fb65-440d-445a-87b9-ee0f48573b1d",
      "metadata": {
        "colab": {
          "base_uri": "https://localhost:8080/"
        },
        "id": "f4e0fb65-440d-445a-87b9-ee0f48573b1d",
        "outputId": "173e8181-fd8a-45da-d214-6cae39a1fd54"
      },
      "outputs": [
        {
          "output_type": "execute_result",
          "data": {
            "text/plain": [
              "yfinance.ticker.Ticker"
            ]
          },
          "metadata": {},
          "execution_count": 3
        }
      ],
      "source": [
        "# Importando a biblioteca yfinance\n",
        "import yfinance as yf\n",
        "\n",
        "# Ticker da Lockheed Martin na NYSE - LMT\n",
        "ticker = yf.Ticker(\"VALE3.SA\")\n",
        "type(ticker)"
      ]
    },
    {
      "cell_type": "code",
      "execution_count": 4,
      "id": "a9157848-c67e-4bec-8a19-276ece02efff",
      "metadata": {
        "colab": {
          "base_uri": "https://localhost:8080/"
        },
        "id": "a9157848-c67e-4bec-8a19-276ece02efff",
        "outputId": "902f8c3b-f4ab-489a-d713-3c228c5a0cc8"
      },
      "outputs": [
        {
          "output_type": "execute_result",
          "data": {
            "text/plain": [
              "{'zip': '22250-145',\n",
              " 'sector': 'Basic Materials',\n",
              " 'longBusinessSummary': 'Vale S.A., together with its subsidiaries, produces and sells iron ore and iron ore pellets for use as raw materials in steelmaking in Brazil and internationally. The company operates through Ferrous Minerals and Base Metals segments. The Ferrous Minerals segment produces and extracts iron ore and pellets, manganese, ferroalloys, and other ferrous products; and provides related logistic services. The Base Metals segment produces and extracts nickel and its by-products, such as gold, silver, cobalt, precious metals, and others, as well as copper. The company was formerly known as Companhia Vale do Rio Doce and changed its name to Vale S.A. in May 2009. Vale S.A. was founded in 1942 and is headquartered in Rio de Janeiro, Brazil.',\n",
              " 'city': 'Rio De Janeiro',\n",
              " 'phone': '55 21 3485 3900',\n",
              " 'state': 'RJ',\n",
              " 'country': 'Brazil',\n",
              " 'companyOfficers': [],\n",
              " 'website': 'https://www.vale.com',\n",
              " 'maxAge': 1,\n",
              " 'address1': 'Praia de Botafogo 186',\n",
              " 'industry': 'Other Industrial Metals & Mining',\n",
              " 'address2': 'Salas 501 a 1901 18 andar Botafogo',\n",
              " 'ebitdaMargins': 0.55747,\n",
              " 'profitMargins': 0.41553003,\n",
              " 'grossMargins': 0.52502996,\n",
              " 'operatingCashflow': 89169002496,\n",
              " 'revenueGrowth': -0.368,\n",
              " 'operatingMargins': 0.49855,\n",
              " 'ebitda': 139052007424,\n",
              " 'targetLowPrice': 79.84,\n",
              " 'recommendationKey': 'buy',\n",
              " 'grossProfits': 176257000000,\n",
              " 'freeCashflow': 61458124800,\n",
              " 'targetMedianPrice': 95.55,\n",
              " 'currentPrice': 70.9,\n",
              " 'earningsGrowth': -0.182,\n",
              " 'currentRatio': 1.322,\n",
              " 'returnOnAssets': 0.16792999,\n",
              " 'numberOfAnalystOpinions': 12,\n",
              " 'targetMeanPrice': 97.62,\n",
              " 'debtToEquity': 43.861,\n",
              " 'returnOnEquity': 0.50592,\n",
              " 'targetHighPrice': 127.75,\n",
              " 'totalCash': 38621999104,\n",
              " 'totalDebt': 84964999168,\n",
              " 'totalRevenue': 249432997888,\n",
              " 'totalCashPerShare': 8.412,\n",
              " 'financialCurrency': 'BRL',\n",
              " 'revenuePerShare': 51.703,\n",
              " 'quickRatio': 0.847,\n",
              " 'recommendationMean': 2.4,\n",
              " 'exchange': 'SAO',\n",
              " 'shortName': 'VALE        ON      NM',\n",
              " 'longName': 'Vale S.A.',\n",
              " 'exchangeTimezoneName': 'America/Sao_Paulo',\n",
              " 'exchangeTimezoneShortName': 'BRST',\n",
              " 'isEsgPopulated': False,\n",
              " 'gmtOffSetMilliseconds': '-7200000',\n",
              " 'quoteType': 'EQUITY',\n",
              " 'symbol': 'VALE3.SA',\n",
              " 'messageBoardId': 'finmb_874225',\n",
              " 'market': 'br_market',\n",
              " 'annualHoldingsTurnover': None,\n",
              " 'enterpriseToRevenue': 1.502,\n",
              " 'beta3Year': None,\n",
              " 'enterpriseToEbitda': 2.695,\n",
              " '52WeekChange': -0.12625128,\n",
              " 'morningStarRiskRating': None,\n",
              " 'forwardEps': 14.13,\n",
              " 'revenueQuarterlyGrowth': None,\n",
              " 'sharesOutstanding': 4542589952,\n",
              " 'fundInceptionDate': None,\n",
              " 'annualReportExpenseRatio': None,\n",
              " 'totalAssets': None,\n",
              " 'bookValue': 40.501,\n",
              " 'sharesShort': None,\n",
              " 'sharesPercentSharesOut': None,\n",
              " 'fundFamily': None,\n",
              " 'lastFiscalYearEnd': 1640908800,\n",
              " 'heldPercentInstitutions': 0.4504,\n",
              " 'netIncomeToCommon': 101489000448,\n",
              " 'trailingEps': 21.1,\n",
              " 'lastDividendValue': 3.572057,\n",
              " 'SandP52WeekChange': -0.20135921,\n",
              " 'priceToBook': 1.7505741,\n",
              " 'heldPercentInsiders': 0.063039996,\n",
              " 'nextFiscalYearEnd': 1703980800,\n",
              " 'yield': None,\n",
              " 'mostRecentQuarter': 1656547200,\n",
              " 'shortRatio': None,\n",
              " 'sharesShortPreviousMonthDate': None,\n",
              " 'floatShares': 4125891665,\n",
              " 'beta': 0.607585,\n",
              " 'enterpriseValue': 374715809792,\n",
              " 'priceHint': 2,\n",
              " 'threeYearAverageReturn': None,\n",
              " 'lastSplitDate': 1188777600,\n",
              " 'lastSplitFactor': '2:1',\n",
              " 'legalType': None,\n",
              " 'lastDividendDate': 1660262400,\n",
              " 'morningStarOverallRating': None,\n",
              " 'earningsQuarterlyGrowth': -0.251,\n",
              " 'priceToSalesTrailing12Months': 1.291207,\n",
              " 'dateShortInterest': None,\n",
              " 'pegRatio': 0.02,\n",
              " 'ytdReturn': None,\n",
              " 'forwardPE': 5.017693,\n",
              " 'lastCapGain': None,\n",
              " 'shortPercentOfFloat': None,\n",
              " 'sharesShortPriorMonth': None,\n",
              " 'impliedSharesOutstanding': 0,\n",
              " 'category': None,\n",
              " 'fiveYearAverageReturn': None,\n",
              " 'previousClose': 69.83,\n",
              " 'regularMarketOpen': 70.21,\n",
              " 'twoHundredDayAverage': 80.5297,\n",
              " 'trailingAnnualDividendYield': 0.10441071,\n",
              " 'payoutRatio': 0.5717,\n",
              " 'volume24Hr': None,\n",
              " 'regularMarketDayHigh': 71.24,\n",
              " 'navPrice': None,\n",
              " 'averageDailyVolume10Day': 48213977,\n",
              " 'regularMarketPreviousClose': 69.83,\n",
              " 'fiftyDayAverage': 69.1612,\n",
              " 'trailingAnnualDividendRate': 7.291,\n",
              " 'open': 70.21,\n",
              " 'toCurrency': None,\n",
              " 'averageVolume10days': 48213977,\n",
              " 'expireDate': None,\n",
              " 'algorithm': None,\n",
              " 'dividendRate': 7.29,\n",
              " 'exDividendDate': 1660262400,\n",
              " 'circulatingSupply': None,\n",
              " 'startDate': None,\n",
              " 'regularMarketDayLow': 69.26,\n",
              " 'currency': 'BRL',\n",
              " 'trailingPE': 3.3601897,\n",
              " 'regularMarketVolume': 13247800,\n",
              " 'lastMarket': None,\n",
              " 'maxSupply': None,\n",
              " 'openInterest': None,\n",
              " 'marketCap': 322069626880,\n",
              " 'volumeAllCurrencies': None,\n",
              " 'strikePrice': None,\n",
              " 'averageVolume': 35546769,\n",
              " 'dayLow': 69.26,\n",
              " 'ask': 70.87,\n",
              " 'askSize': 0,\n",
              " 'volume': 13247800,\n",
              " 'fiftyTwoWeekHigh': 107.11,\n",
              " 'fromCurrency': None,\n",
              " 'fiveYearAvgDividendYield': None,\n",
              " 'fiftyTwoWeekLow': 61.85,\n",
              " 'bid': 70.92,\n",
              " 'tradeable': False,\n",
              " 'dividendYield': 0.104399994,\n",
              " 'bidSize': 0,\n",
              " 'dayHigh': 71.24,\n",
              " 'coinMarketCapLink': None,\n",
              " 'regularMarketPrice': 70.9,\n",
              " 'preMarketPrice': None,\n",
              " 'logo_url': 'https://logo.clearbit.com/vale.com'}"
            ]
          },
          "metadata": {},
          "execution_count": 4
        }
      ],
      "source": [
        "# Informações do Ticker\n",
        "ticker.info"
      ]
    },
    {
      "cell_type": "code",
      "execution_count": 5,
      "id": "d3074670-9493-44b1-b163-01d217142978",
      "metadata": {
        "colab": {
          "base_uri": "https://localhost:8080/",
          "height": 499
        },
        "id": "d3074670-9493-44b1-b163-01d217142978",
        "outputId": "159c1911-978a-4e81-a1a9-487a8dc6cd56"
      },
      "outputs": [
        {
          "output_type": "execute_result",
          "data": {
            "text/plain": [
              "                                Open       High        Low      Close  \\\n",
              "Date                                                                    \n",
              "2000-01-03 00:00:00-02:00   1.707494   1.728228   1.707494   1.707494   \n",
              "2000-01-04 00:00:00-02:00   1.691232   1.694891   1.666839   1.666839   \n",
              "2000-01-05 00:00:00-02:00   1.646512   1.666839   1.646512   1.666839   \n",
              "2000-01-06 00:00:00-02:00   1.666839   1.707494   1.666839   1.666839   \n",
              "2000-01-07 00:00:00-02:00   1.687167   1.736359   1.687167   1.727821   \n",
              "...                              ...        ...        ...        ...   \n",
              "2022-10-10 00:00:00-03:00  76.410004  77.019997  73.480003  73.989998   \n",
              "2022-10-11 00:00:00-03:00  73.199997  74.180000  72.029999  73.489998   \n",
              "2022-10-13 00:00:00-03:00  72.250000  72.800003  71.050003  72.180000   \n",
              "2022-10-14 00:00:00-03:00  72.610001  73.360001  69.599998  69.830002   \n",
              "2022-10-17 00:00:00-03:00  70.209999  71.239998  69.260002  70.919998   \n",
              "\n",
              "                             Volume  Dividends  Stock Splits  \n",
              "Date                                                          \n",
              "2000-01-03 00:00:00-02:00    585600        0.0           0.0  \n",
              "2000-01-04 00:00:00-02:00    782400        0.0           0.0  \n",
              "2000-01-05 00:00:00-02:00   1876800        0.0           0.0  \n",
              "2000-01-06 00:00:00-02:00    792000        0.0           0.0  \n",
              "2000-01-07 00:00:00-02:00   5347200        0.0           0.0  \n",
              "...                             ...        ...           ...  \n",
              "2022-10-10 00:00:00-03:00  45515900        0.0           0.0  \n",
              "2022-10-11 00:00:00-03:00  33885800        0.0           0.0  \n",
              "2022-10-13 00:00:00-03:00  32960000        0.0           0.0  \n",
              "2022-10-14 00:00:00-03:00  34091700        0.0           0.0  \n",
              "2022-10-17 00:00:00-03:00  13252600        0.0           0.0  \n",
              "\n",
              "[5727 rows x 7 columns]"
            ],
            "text/html": [
              "\n",
              "  <div id=\"df-477f94f1-65a7-48ef-8efc-89346a4cabc5\">\n",
              "    <div class=\"colab-df-container\">\n",
              "      <div>\n",
              "<style scoped>\n",
              "    .dataframe tbody tr th:only-of-type {\n",
              "        vertical-align: middle;\n",
              "    }\n",
              "\n",
              "    .dataframe tbody tr th {\n",
              "        vertical-align: top;\n",
              "    }\n",
              "\n",
              "    .dataframe thead th {\n",
              "        text-align: right;\n",
              "    }\n",
              "</style>\n",
              "<table border=\"1\" class=\"dataframe\">\n",
              "  <thead>\n",
              "    <tr style=\"text-align: right;\">\n",
              "      <th></th>\n",
              "      <th>Open</th>\n",
              "      <th>High</th>\n",
              "      <th>Low</th>\n",
              "      <th>Close</th>\n",
              "      <th>Volume</th>\n",
              "      <th>Dividends</th>\n",
              "      <th>Stock Splits</th>\n",
              "    </tr>\n",
              "    <tr>\n",
              "      <th>Date</th>\n",
              "      <th></th>\n",
              "      <th></th>\n",
              "      <th></th>\n",
              "      <th></th>\n",
              "      <th></th>\n",
              "      <th></th>\n",
              "      <th></th>\n",
              "    </tr>\n",
              "  </thead>\n",
              "  <tbody>\n",
              "    <tr>\n",
              "      <th>2000-01-03 00:00:00-02:00</th>\n",
              "      <td>1.707494</td>\n",
              "      <td>1.728228</td>\n",
              "      <td>1.707494</td>\n",
              "      <td>1.707494</td>\n",
              "      <td>585600</td>\n",
              "      <td>0.0</td>\n",
              "      <td>0.0</td>\n",
              "    </tr>\n",
              "    <tr>\n",
              "      <th>2000-01-04 00:00:00-02:00</th>\n",
              "      <td>1.691232</td>\n",
              "      <td>1.694891</td>\n",
              "      <td>1.666839</td>\n",
              "      <td>1.666839</td>\n",
              "      <td>782400</td>\n",
              "      <td>0.0</td>\n",
              "      <td>0.0</td>\n",
              "    </tr>\n",
              "    <tr>\n",
              "      <th>2000-01-05 00:00:00-02:00</th>\n",
              "      <td>1.646512</td>\n",
              "      <td>1.666839</td>\n",
              "      <td>1.646512</td>\n",
              "      <td>1.666839</td>\n",
              "      <td>1876800</td>\n",
              "      <td>0.0</td>\n",
              "      <td>0.0</td>\n",
              "    </tr>\n",
              "    <tr>\n",
              "      <th>2000-01-06 00:00:00-02:00</th>\n",
              "      <td>1.666839</td>\n",
              "      <td>1.707494</td>\n",
              "      <td>1.666839</td>\n",
              "      <td>1.666839</td>\n",
              "      <td>792000</td>\n",
              "      <td>0.0</td>\n",
              "      <td>0.0</td>\n",
              "    </tr>\n",
              "    <tr>\n",
              "      <th>2000-01-07 00:00:00-02:00</th>\n",
              "      <td>1.687167</td>\n",
              "      <td>1.736359</td>\n",
              "      <td>1.687167</td>\n",
              "      <td>1.727821</td>\n",
              "      <td>5347200</td>\n",
              "      <td>0.0</td>\n",
              "      <td>0.0</td>\n",
              "    </tr>\n",
              "    <tr>\n",
              "      <th>...</th>\n",
              "      <td>...</td>\n",
              "      <td>...</td>\n",
              "      <td>...</td>\n",
              "      <td>...</td>\n",
              "      <td>...</td>\n",
              "      <td>...</td>\n",
              "      <td>...</td>\n",
              "    </tr>\n",
              "    <tr>\n",
              "      <th>2022-10-10 00:00:00-03:00</th>\n",
              "      <td>76.410004</td>\n",
              "      <td>77.019997</td>\n",
              "      <td>73.480003</td>\n",
              "      <td>73.989998</td>\n",
              "      <td>45515900</td>\n",
              "      <td>0.0</td>\n",
              "      <td>0.0</td>\n",
              "    </tr>\n",
              "    <tr>\n",
              "      <th>2022-10-11 00:00:00-03:00</th>\n",
              "      <td>73.199997</td>\n",
              "      <td>74.180000</td>\n",
              "      <td>72.029999</td>\n",
              "      <td>73.489998</td>\n",
              "      <td>33885800</td>\n",
              "      <td>0.0</td>\n",
              "      <td>0.0</td>\n",
              "    </tr>\n",
              "    <tr>\n",
              "      <th>2022-10-13 00:00:00-03:00</th>\n",
              "      <td>72.250000</td>\n",
              "      <td>72.800003</td>\n",
              "      <td>71.050003</td>\n",
              "      <td>72.180000</td>\n",
              "      <td>32960000</td>\n",
              "      <td>0.0</td>\n",
              "      <td>0.0</td>\n",
              "    </tr>\n",
              "    <tr>\n",
              "      <th>2022-10-14 00:00:00-03:00</th>\n",
              "      <td>72.610001</td>\n",
              "      <td>73.360001</td>\n",
              "      <td>69.599998</td>\n",
              "      <td>69.830002</td>\n",
              "      <td>34091700</td>\n",
              "      <td>0.0</td>\n",
              "      <td>0.0</td>\n",
              "    </tr>\n",
              "    <tr>\n",
              "      <th>2022-10-17 00:00:00-03:00</th>\n",
              "      <td>70.209999</td>\n",
              "      <td>71.239998</td>\n",
              "      <td>69.260002</td>\n",
              "      <td>70.919998</td>\n",
              "      <td>13252600</td>\n",
              "      <td>0.0</td>\n",
              "      <td>0.0</td>\n",
              "    </tr>\n",
              "  </tbody>\n",
              "</table>\n",
              "<p>5727 rows × 7 columns</p>\n",
              "</div>\n",
              "      <button class=\"colab-df-convert\" onclick=\"convertToInteractive('df-477f94f1-65a7-48ef-8efc-89346a4cabc5')\"\n",
              "              title=\"Convert this dataframe to an interactive table.\"\n",
              "              style=\"display:none;\">\n",
              "        \n",
              "  <svg xmlns=\"http://www.w3.org/2000/svg\" height=\"24px\"viewBox=\"0 0 24 24\"\n",
              "       width=\"24px\">\n",
              "    <path d=\"M0 0h24v24H0V0z\" fill=\"none\"/>\n",
              "    <path d=\"M18.56 5.44l.94 2.06.94-2.06 2.06-.94-2.06-.94-.94-2.06-.94 2.06-2.06.94zm-11 1L8.5 8.5l.94-2.06 2.06-.94-2.06-.94L8.5 2.5l-.94 2.06-2.06.94zm10 10l.94 2.06.94-2.06 2.06-.94-2.06-.94-.94-2.06-.94 2.06-2.06.94z\"/><path d=\"M17.41 7.96l-1.37-1.37c-.4-.4-.92-.59-1.43-.59-.52 0-1.04.2-1.43.59L10.3 9.45l-7.72 7.72c-.78.78-.78 2.05 0 2.83L4 21.41c.39.39.9.59 1.41.59.51 0 1.02-.2 1.41-.59l7.78-7.78 2.81-2.81c.8-.78.8-2.07 0-2.86zM5.41 20L4 18.59l7.72-7.72 1.47 1.35L5.41 20z\"/>\n",
              "  </svg>\n",
              "      </button>\n",
              "      \n",
              "  <style>\n",
              "    .colab-df-container {\n",
              "      display:flex;\n",
              "      flex-wrap:wrap;\n",
              "      gap: 12px;\n",
              "    }\n",
              "\n",
              "    .colab-df-convert {\n",
              "      background-color: #E8F0FE;\n",
              "      border: none;\n",
              "      border-radius: 50%;\n",
              "      cursor: pointer;\n",
              "      display: none;\n",
              "      fill: #1967D2;\n",
              "      height: 32px;\n",
              "      padding: 0 0 0 0;\n",
              "      width: 32px;\n",
              "    }\n",
              "\n",
              "    .colab-df-convert:hover {\n",
              "      background-color: #E2EBFA;\n",
              "      box-shadow: 0px 1px 2px rgba(60, 64, 67, 0.3), 0px 1px 3px 1px rgba(60, 64, 67, 0.15);\n",
              "      fill: #174EA6;\n",
              "    }\n",
              "\n",
              "    [theme=dark] .colab-df-convert {\n",
              "      background-color: #3B4455;\n",
              "      fill: #D2E3FC;\n",
              "    }\n",
              "\n",
              "    [theme=dark] .colab-df-convert:hover {\n",
              "      background-color: #434B5C;\n",
              "      box-shadow: 0px 1px 3px 1px rgba(0, 0, 0, 0.15);\n",
              "      filter: drop-shadow(0px 1px 2px rgba(0, 0, 0, 0.3));\n",
              "      fill: #FFFFFF;\n",
              "    }\n",
              "  </style>\n",
              "\n",
              "      <script>\n",
              "        const buttonEl =\n",
              "          document.querySelector('#df-477f94f1-65a7-48ef-8efc-89346a4cabc5 button.colab-df-convert');\n",
              "        buttonEl.style.display =\n",
              "          google.colab.kernel.accessAllowed ? 'block' : 'none';\n",
              "\n",
              "        async function convertToInteractive(key) {\n",
              "          const element = document.querySelector('#df-477f94f1-65a7-48ef-8efc-89346a4cabc5');\n",
              "          const dataTable =\n",
              "            await google.colab.kernel.invokeFunction('convertToInteractive',\n",
              "                                                     [key], {});\n",
              "          if (!dataTable) return;\n",
              "\n",
              "          const docLinkHtml = 'Like what you see? Visit the ' +\n",
              "            '<a target=\"_blank\" href=https://colab.research.google.com/notebooks/data_table.ipynb>data table notebook</a>'\n",
              "            + ' to learn more about interactive tables.';\n",
              "          element.innerHTML = '';\n",
              "          dataTable['output_type'] = 'display_data';\n",
              "          await google.colab.output.renderOutput(dataTable, element);\n",
              "          const docLink = document.createElement('div');\n",
              "          docLink.innerHTML = docLinkHtml;\n",
              "          element.appendChild(docLink);\n",
              "        }\n",
              "      </script>\n",
              "    </div>\n",
              "  </div>\n",
              "  "
            ]
          },
          "metadata": {},
          "execution_count": 5
        }
      ],
      "source": [
        "# Obtendo o histórico completo da ação\n",
        "hist = ticker.history(period=\"max\")\n",
        "hist"
      ]
    },
    {
      "cell_type": "code",
      "execution_count": 6,
      "id": "285911f1-88b9-4a9e-8f06-c7469014f27d",
      "metadata": {
        "colab": {
          "base_uri": "https://localhost:8080/",
          "height": 279
        },
        "id": "285911f1-88b9-4a9e-8f06-c7469014f27d",
        "outputId": "4d0b20e5-2210-4518-e3f4-214c3ed7bf36"
      },
      "outputs": [
        {
          "output_type": "display_data",
          "data": {
            "text/plain": [
              "<Figure size 432x288 with 1 Axes>"
            ],
            "image/png": "[encoded data removed]"
          },
          "metadata": {
            "needs_background": "light"
          }
        }
      ],
      "source": [
        "# Gráfico da cotação de fechamento\n",
        "from matplotlib import pyplot as plt\n",
        "%matplotlib inline\n",
        "plt.plot(hist['Close'], label=ticker.info['symbol'])\n",
        "plt.xlabel('Data')\n",
        "plt.ylabel('Cotação de Fechamento ({0})'.format(ticker.info['currency']))\n",
        "plt.legend()\n",
        "plt.show()"
      ]
    },
    {
      "cell_type": "code",
      "execution_count": 7,
      "id": "698e37a8-4f6a-4c27-b42d-da86d1bcec93",
      "metadata": {
        "colab": {
          "base_uri": "https://localhost:8080/"
        },
        "id": "698e37a8-4f6a-4c27-b42d-da86d1bcec93",
        "outputId": "7c9cc63a-802c-4e4e-8188-d11579c7d7ec"
      },
      "outputs": [
        {
          "output_type": "execute_result",
          "data": {
            "text/plain": [
              "Date\n",
              "2000-12-31 00:00:00-02:00     0.000000\n",
              "2001-12-31 00:00:00-02:00     0.000000\n",
              "2002-12-31 00:00:00-02:00     0.000000\n",
              "2003-12-31 00:00:00-02:00     0.000000\n",
              "2004-12-31 00:00:00-02:00     0.000000\n",
              "2005-12-31 00:00:00-02:00     0.000000\n",
              "2006-12-31 00:00:00-02:00     0.000000\n",
              "2007-12-31 00:00:00-02:00     0.000000\n",
              "2008-12-31 00:00:00-02:00     0.575105\n",
              "2009-12-31 00:00:00-02:00     1.016622\n",
              "2010-12-31 00:00:00-02:00     0.893542\n",
              "2011-12-31 00:00:00-02:00     2.496027\n",
              "2012-12-31 00:00:00-02:00     2.261800\n",
              "2013-12-31 00:00:00-02:00     0.984650\n",
              "2014-12-31 00:00:00-02:00     1.889774\n",
              "2015-12-31 00:00:00-02:00     0.975371\n",
              "2016-12-31 00:00:00-02:00     0.166294\n",
              "2017-12-31 00:00:00-02:00     1.325484\n",
              "2018-12-31 00:00:00-02:00     1.968873\n",
              "2019-12-31 00:00:00-03:00     1.414364\n",
              "2020-12-31 00:00:00-03:00     2.407510\n",
              "2021-12-31 00:00:00-03:00    14.648555\n",
              "2022-12-31 00:00:00-03:00     7.291313\n",
              "Freq: A-DEC, Name: Dividends, dtype: float64"
            ]
          },
          "metadata": {},
          "execution_count": 7
        }
      ],
      "source": [
        "# Agrupando (somando) os dividendos por ano\n",
        "dividendos = hist['Dividends'].resample('Y').sum()\n",
        "dividendos"
      ]
    },
    {
      "cell_type": "code",
      "execution_count": 8,
      "id": "adbfee9d-91f7-4cbc-bd3b-bc1e4ad17dd2",
      "metadata": {
        "colab": {
          "base_uri": "https://localhost:8080/",
          "height": 279
        },
        "id": "adbfee9d-91f7-4cbc-bd3b-bc1e4ad17dd2",
        "outputId": "a1220bd8-3575-4493-8e8a-b04dbb45e973"
      },
      "outputs": [
        {
          "output_type": "display_data",
          "data": {
            "text/plain": [
              "<Figure size 432x288 with 1 Axes>"
            ],
            "image/png": "[encoded data removed]"
          },
          "metadata": {
            "needs_background": "light"
          }
        }
      ],
      "source": [
        "# Gráfico dos dividendos anuais\n",
        "plt.plot(dividendos.index.year[:-2], dividendos[:-2], label=ticker.info['symbol'])\n",
        "plt.xlabel('Data')\n",
        "plt.ylabel('Dividendos Anuais ({0})'.format(ticker.info['currency']))\n",
        "plt.legend()\n",
        "plt.show()"
      ]
    },
    {
      "cell_type": "markdown",
      "id": "037b60f1-d7f2-4f98-8e27-dc430330f761",
      "metadata": {
        "id": "037b60f1-d7f2-4f98-8e27-dc430330f761"
      },
      "source": [
        "## Exportando os dados"
      ]
    },
    {
      "cell_type": "code",
      "execution_count": 9,
      "id": "dfa9e808-2fb8-4f86-9885-20d44ee5dce5",
      "metadata": {
        "id": "dfa9e808-2fb8-4f86-9885-20d44ee5dce5"
      },
      "outputs": [],
      "source": [
        "# Exportando para o arquivo lmt-hist.csv\n",
        "hist.to_csv('vale-hist.csv', index=True)"
      ]
    },
    {
      "cell_type": "markdown",
      "id": "9ca6e41f-2feb-45c3-a15f-47ed654e8c38",
      "metadata": {
        "id": "9ca6e41f-2feb-45c3-a15f-47ed654e8c38"
      },
      "source": [
        "---"
      ]
    },
    {
      "cell_type": "markdown",
      "id": "484e0ca5-141e-40fe-a92a-550cec5f046c",
      "metadata": {
        "tags": [],
        "id": "484e0ca5-141e-40fe-a92a-550cec5f046c"
      },
      "source": [
        "# Registro de Alterações (*Change Log*)"
      ]
    },
    {
      "cell_type": "markdown",
      "id": "20bb4007-2e78-45a2-9ddd-5aaca0749dfe",
      "metadata": {
        "tags": [],
        "id": "20bb4007-2e78-45a2-9ddd-5aaca0749dfe"
      },
      "source": [
        "| Data (DD/MM/YYYY) | Versão  | Alterado Por | Descrição da Mudança                |\n",
        "| ----------------- | ------- | ------------ | ----------------------------------- |\n",
        "| 17/10/2022        | 1.2     | Jose Henrique      | Versão inicial                      |"
      ]
    },
    {
      "cell_type": "code",
      "execution_count": null,
      "id": "e6cf54de-28c9-4699-befd-63c4bb7a68d4",
      "metadata": {
        "id": "e6cf54de-28c9-4699-befd-63c4bb7a68d4"
      },
      "outputs": [],
      "source": []
    }
  ],
  "metadata": {
    "kernelspec": {
      "display_name": "Python 3 (ipykernel)",
      "language": "python",
      "name": "python3"
    },
    "language_info": {
      "codemirror_mode": {
        "name": "ipython",
        "version": 3
      },
      "file_extension": ".py",
      "mimetype": "text/x-python",
      "name": "python",
      "nbconvert_exporter": "python",
      "pygments_lexer": "ipython3",
      "version": "3.10.6"
    },
    "toc-autonumbering": true,
    "toc-showmarkdowntxt": false,
    "colab": {
      "provenance": [],
      "include_colab_link": true
    }
  },
  "nbformat": 4,
  "nbformat_minor": 5
}