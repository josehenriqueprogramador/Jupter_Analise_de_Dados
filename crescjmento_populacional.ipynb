{
  "nbformat": 4,
  "nbformat_minor": 0,
  "metadata": {
    "colab": {
      "provenance": [],
      "authorship_tag": "ABX9TyNZPdpDs0bmjPRElLq1wqIV",
      "include_colab_link": true
    },
    "kernelspec": {
      "name": "python3",
      "display_name": "Python 3"
    },
    "language_info": {
      "name": "python"
    }
  },
  "cells": [
    {
      "cell_type": "markdown",
      "metadata": {
        "id": "view-in-github",
        "colab_type": "text"
      },
      "source": [
        "<a href=\"https://colab.research.google.com/github/josehenriqueprogramador/Jupyter_Analise_de_Dados/blob/master/crescjmento_populacional.ipynb\" target=\"_parent\"><img src=\"https://colab.research.google.com/assets/colab-badge.svg\" alt=\"Open In Colab\"/></a>"
      ]
    },
    {
      "cell_type": "code",
      "execution_count": 23,
      "metadata": {
        "id": "gHmGn9WyVnEQ"
      },
      "outputs": [],
      "source": [
        "import numpy as np\n",
        "from scipy.integrate import odeint"
      ]
    },
    {
      "cell_type": "markdown",
      "source": [
        "#Solução e ajuste de EDO com as rotinas odeint e curve_fit do Python - Ex.: Crescimento Populacional"
      ],
      "metadata": {
        "id": "5euuzkp_df21"
      }
    },
    {
      "cell_type": "markdown",
      "source": [
        "Considerando que em 2017 a população da cidade x é de 1.000.000 de habitantes, determine a população desta cidade em 2040 considerando uma taxa de crescimento de o,o65% ao ano."
      ],
      "metadata": {
        "id": "HNK3s0EgdqAM"
      }
    },
    {
      "cell_type": "code",
      "source": [
        "def f(p, t, a, b):\n",
        "    \"\"\"Função y=f(p,a,b) com parâmetros a,b. \"\"\"\n",
        "    return a * b * p \n",
        "\n",
        "def p(t, a, b, p0):\n",
        "    \"\"\"\n",
        "    Solução para a EDO x'(t) = f(t,x,a,b) com condição inicial y(0) = y0\n",
        "    \"\"\"\n",
        "    p = odeint(f, p0, t, args=(a, 1))\n",
        "    return p.ravel()\n",
        "\n",
        "p0 = 1e6  # Condição inicial em t = t0\n",
        "t0 = 2017 \n",
        "tf = 2040\n",
        "n = 20    # Número de pontos para impressão \n",
        "\n",
        "# Solução analítica\n",
        "data_t = np.linspace(t0,tf,n)\n",
        "data_p = p0 * np.exp(0.065 * (data_t-t0)) \n",
        "# Adiciona ruído\n",
        "yi = data_p + 1e3 * np.random.normal(size=len(data_t))\n",
        "\n",
        "# Chamada da rotina curve_fit\n",
        "from scipy.optimize import curve_fit\n",
        "popt, pcov = curve_fit(p, data_t, yi)\n",
        "a, b, x0 = popt\n",
        "print(\"Optimal parameter is a=%g\" % (a))\n",
        "#print(data_p)\n",
        "\n",
        "# Chamada da rotina matplotlib.pyplot\n",
        "import matplotlib.pyplot as plt\n",
        "t = np.linspace(t0, tf, n)\n",
        "plt.plot(data_t, data_p,'o',label='Sol. Analítica')\n",
        "plt.plot(t, p(t, a, b, p0), '-',label='Sol. Numérica')\n",
        "plt.gcf().set_size_inches(6, 4)\n",
        "plt.xlabel(\"Tempo\")\n",
        "plt.ylabel(\"Valor de P\")\n",
        "plt.legend(loc=\"upper center\", ncol=2, shadow=True, title=\"Legenda\")\n",
        "plt.show()"
      ],
      "metadata": {
        "colab": {
          "base_uri": "https://localhost:8080/",
          "height": 307
        },
        "id": "hz80Y9qUcpht",
        "outputId": "c60fed9b-9f63-43ad-e887-b5dbec352b79"
      },
      "execution_count": 25,
      "outputs": [
        {
          "output_type": "stream",
          "name": "stdout",
          "text": [
            "Optimal parameter is a=0.0649944\n"
          ]
        },
        {
          "output_type": "display_data",
          "data": {
            "text/plain": [
              "<Figure size 432x288 with 1 Axes>"
            ],
            "image/png": "[encoded data removed]"
          },
          "metadata": {
            "needs_background": "light"
          }
        }
      ]
    },
    {
      "cell_type": "markdown",
      "source": [
        "#Solução e ajuste de EDO com as rotinas odeint e curve_fit do Python - Ex.: Crescimento Populacional"
      ],
      "metadata": {
        "id": "BE_jIZr4flrL"
      }
    }
  ]
}